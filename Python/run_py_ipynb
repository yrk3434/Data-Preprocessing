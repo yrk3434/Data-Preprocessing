# 주피터 노트북에서 파이썬 스크립트 실행
%run -i 'script.py'
